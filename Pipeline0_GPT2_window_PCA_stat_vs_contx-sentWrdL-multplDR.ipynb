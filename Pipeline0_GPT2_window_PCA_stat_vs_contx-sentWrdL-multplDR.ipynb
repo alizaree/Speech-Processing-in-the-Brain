{
 "cells": [
  {
   "cell_type": "code",
   "execution_count": 14,
   "id": "jewish-agent",
   "metadata": {},
   "outputs": [],
   "source": [
    "# imports and initializations\n",
    "import os\n",
    "import pickle\n",
    "import numpy as np\n",
    "import time\n",
    "import matplotlib.pyplot as plt\n",
    "import tarfile\n",
    "import glob\n",
    "import librosa\n",
    "import itertools as itt\n",
    "import torch\n",
    "import transformers\n",
    "from torch.nn import functional as F\n",
    "import nltk\n",
    "from nltk.corpus import stopwords\n",
    "import scipy as sp\n",
    "\n",
    "sent_Window=1 # windowing will happen by expanding sentences rather than words if 0 it's words rather than windows.\n",
    "PCAV=1 # take pca of values or not\n",
    "modelplus='-medium' # model type\n",
    "#modelplus='' # model type\n",
    "Twolayer=1\n",
    "if Twolayer==1:\n",
    "    TwolayerN='_2LYR'\n",
    "else:\n",
    "    TwolayerN=''\n",
    "if sent_Window==1:\n",
    "    sent_Window_N='WsentL'+TwolayerN\n",
    "elif sent_Window==0:\n",
    "    sent_Window_N='WwrdL'+TwolayerN\n",
    "else:\n",
    "    sent_Window_N='ent'\n",
    "    "
   ]
  },
  {
   "cell_type": "code",
   "execution_count": 15,
   "id": "permanent-shield",
   "metadata": {},
   "outputs": [],
   "source": [
    "# import the GPT model to use:\n",
    "\n",
    "import torch\n",
    "from transformers import GPT2Tokenizer, GPT2LMHeadModel\n",
    "import logging\n",
    "logging.basicConfig(level=logging.INFO)\n",
    "# Load pre-trained model tokenizer (vocabulary)\n",
    "tokenizer = GPT2Tokenizer.from_pretrained('gpt2')\n",
    "\n",
    "model = GPT2LMHeadModel.from_pretrained('gpt2'+modelplus, output_hidden_states=True)\n",
    "\n",
    "# Set the model in evaluation mode to deactivate the DropOut modules\n",
    "# This is IMPORTANT to have reproducible results during evaluation!\n",
    "model.eval()\n",
    "\n",
    "Dictname='../linfo.pkl'\n",
    "Lingname='../Data/after_aligner/hank.pickle'\n",
    "#model = pickle.load(open(Dictname, 'rb'))\n",
    "\n",
    "with open(Lingname, 'rb') as handle:\n",
    "    datadict = pickle.load(handle)"
   ]
  },
  {
   "cell_type": "code",
   "execution_count": 16,
   "id": "extreme-emission",
   "metadata": {},
   "outputs": [
    {
     "name": "stdout",
     "output_type": "stream",
     "text": [
      "['stim08', 'stim09', 'stim19', 'stim18', 'stim01', 'stim15', 'stim14', 'stim16', 'stim02', 'stim03', 'stim17', 'stim13', 'stim07', 'stim06', 'stim12', 'stim04', 'stim10', 'stim11', 'stim05']\n",
      "['stim08', 'stim09', 'stim19', 'stim18', 'stim16', 'stim02', 'stim03', 'stim17', 'stim01', 'stim15', 'stim14', 'stim04', 'stim10', 'stim11', 'stim05', 'stim13', 'stim07', 'stim06', 'stim12']\n",
      "[0, 1, 2, 3, 7, 8, 9, 10, 4, 5, 6, 15, 16, 17, 18, 11, 12, 13, 14]\n"
     ]
    }
   ],
   "source": [
    "# load the sentenced scripts:\n",
    "add_sent='../Data/hank_scripts_proper/'\n",
    "sent_names=glob.glob(add_sent+'*.txt')\n",
    "\n",
    "\n",
    "namename=[idd[-10:-4] for idd in sent_names]\n",
    "print(namename)\n",
    "\n",
    "print(datadict['name'])\n",
    "\n",
    "order=[namename.index(idd) for idd in datadict['name']]\n",
    "print(order)\n",
    "\n",
    "sent_names=[sent_names[idd] for idd in order]\n",
    "\n",
    "#_, _, filenames = next(walk(add_sent))\n",
    "stories=[]\n",
    "for fn in sent_names:\n",
    "    with open(fn) as f:\n",
    "        stories.append(f.read().lower())"
   ]
  },
  {
   "cell_type": "code",
   "execution_count": 17,
   "id": "indian-helen",
   "metadata": {},
   "outputs": [
    {
     "name": "stdout",
     "output_type": "stream",
     "text": [
      "[8, 5, 6, 11, 14, 17, 16, 0, 1, 12, 13, 18, 15, 10, 9, 4, 7, 3, 2]\n",
      "['stim01', 'stim02', 'stim03', 'stim04', 'stim05', 'stim06', 'stim07', 'stim08', 'stim09', 'stim10', 'stim11', 'stim12', 'stim13', 'stim14', 'stim15', 'stim16', 'stim17', 'stim18', 'stim19']\n",
      "2682 2682\n"
     ]
    }
   ],
   "source": [
    "# concatenate all the stories in their correct order:\n",
    "organized_order=[ datadict['name'].index('stim0'+str(idd)) if idd<10 else datadict['name'].index('stim'+str(idd)) for idd in range(1,len(datadict['name'])+1)]\n",
    "\n",
    "print(organized_order)\n",
    "org_storyN=[ datadict['name'][idd] for idd in organized_order]\n",
    "print(org_storyN)\n",
    "org_stories=[stories[idd] for idd in organized_order]\n",
    "comp_story=' '.join(org_stories)\n",
    "#print(comp_story)\n",
    "org_str_wrds=[idd.split(' ') for idd in org_stories ]\n",
    "org_str_len=[ len(idd) for idd in org_str_wrds]\n",
    "str_wrds=[ j for i in org_str_wrds for j in i]\n",
    "str_wrds2=[ ''.join(c for c in idd if c.isalpha()) if len(idd)>1 else idd for idd in str_wrds]\n",
    "print(len(str_wrds), sum(org_str_len))\n"
   ]
  },
  {
   "cell_type": "code",
   "execution_count": 18,
   "id": "formal-disposal",
   "metadata": {},
   "outputs": [
    {
     "name": "stdout",
     "output_type": "stream",
     "text": [
      "number of actual words in the story: 1241 2682\n",
      "number of words in the story that are repeated at least 4 times: 56 [[5, 'hank'], [9, 'dog'], [11, 'got'], [11, 'ranch'], [9, 'know'], [4, 'mean'], [6, 'took'], [5, 'job'], [6, 'head'], [5, 'security'], [15, 'could'], [4, 'tail'], [7, 'kind'], [6, 'nose'], [5, 'two'], [5, 'get'], [5, 'little'], [7, 'around'], [8, 'would'], [7, 'drover'], [4, 'anyway'], [4, 'made'], [10, 'right'], [4, 'night'], [10, 'heard'], [9, 'went'], [7, 'came'], [4, 'find'], [4, 'come'], [9, 'well'], [4, 'side'], [4, 'go'], [4, 'santiago'], [14, 'one'], [6, 'door'], [11, 'back'], [4, 'enough'], [4, 'kitchen'], [6, 'sally'], [6, 'may'], [6, 'table'], [8, 'sure'], [4, 'guy'], [4, 'years'], [5, 'never'], [5, 'dinner'], [4, 'take'], [4, 'ran'], [5, 'hear'], [4, 'think'], [4, 'house'], [4, 'tracks'], [4, 'say'], [4, 'country'], [6, 'cave'], [6, 'music']]\n"
     ]
    }
   ],
   "source": [
    "all_wrds=comp_story.split(' ')\n",
    "all_wrds2=[ ''.join(c for c in idd if c.isalpha()) for idd in all_wrds]\n",
    "#print(all_wrds2)\n",
    "def unique(list1):\n",
    " \n",
    "    # intilize a null list\n",
    "    unique_list = []\n",
    "     \n",
    "    # traverse for all elements\n",
    "    for x in list1:\n",
    "        # check if exists in unique_list or not\n",
    "        if x not in unique_list:\n",
    "            unique_list.append(x)\n",
    "    return unique_list\n",
    "unique_wrds=unique(all_wrds2)\n",
    "all_actual_wrds=[idd for idd in all_wrds2 if idd not in stopwords.words('english')]\n",
    "print( 'number of actual words in the story:', len(all_actual_wrds),len(all_wrds2) )\n",
    "#print('unique of all words:,unique(all_wrds2))\n",
    "rep=[]\n",
    "for wrd in unique_wrds:\n",
    "    inst=[idd for idd,item in enumerate(all_wrds2) if item==wrd ]\n",
    "    rep.append([len(inst), wrd])\n",
    "\n",
    "rep_=[idd for idd in rep if idd[1] not in stopwords.words('english') ]\n",
    "rep_Gthan4=[ idd for idd in rep_ if idd[0]>3]\n",
    "\n",
    "print('number of words in the story that are repeated at least 4 times:', len(rep_Gthan4), rep_Gthan4)"
   ]
  },
  {
   "cell_type": "code",
   "execution_count": 19,
   "id": "framed-massage",
   "metadata": {},
   "outputs": [
    {
     "name": "stdout",
     "output_type": "stream",
     "text": [
      "number of sentecnes:  306\n",
      "it is me again hank the cow dog\n"
     ]
    }
   ],
   "source": [
    "#print(str_wrds[0:50])\n",
    "# make sentences, and address of sentence for each word\n",
    "sent_counter=0\n",
    "wrd_in_sent=[]\n",
    "sentences=[]\n",
    "in_sent_idd=[]\n",
    "counter_in_sent_idd=0\n",
    "sent_inst=[]\n",
    "for item in str_wrds:\n",
    "    \n",
    "    wrd_in_sent.append(sent_counter)\n",
    "    sent_inst.append(item)\n",
    "    in_sent_idd.append(counter_in_sent_idd)\n",
    "    counter_in_sent_idd=counter_in_sent_idd+1\n",
    "    if '.' in item:\n",
    "        counter_in_sent_idd=0\n",
    "        sent_counter=sent_counter+1\n",
    "        sentences.append(sent_inst)\n",
    "        sent_inst=[]\n",
    "#print(wrd_in_sent[0:50])\n",
    "print('number of sentecnes: ',len(sentences))\n",
    "idd=7\n",
    "nw=0\n",
    "#print(sentences[max(wrd_in_sent[idd]-nw,0):wrd_in_sent[idd]])\n",
    "#print(sentences[wrd_in_sent[idd]][:in_sent_idd[idd]]+[str_wrds2[idd]])\n",
    "WindowSent=sentences[max(wrd_in_sent[idd]-nw,0):wrd_in_sent[idd]]+[sentences[wrd_in_sent[idd]][:in_sent_idd[idd]]+[str_wrds2[idd]]]\n",
    "WindowSent=[j for i in WindowSent for j in i]\n",
    "print(' '.join(WindowSent))"
   ]
  },
  {
   "cell_type": "code",
   "execution_count": 20,
   "id": "powerful-general",
   "metadata": {},
   "outputs": [],
   "source": [
    "nw=20\n",
    "if nw>=0:\n",
    "        wrd_enc=[]\n",
    "        for idd, item in enumerate(str_wrds2):\n",
    "            WindowSent=sentences[max(wrd_in_sent[idd]-nw,0):wrd_in_sent[idd]]+[sentences[wrd_in_sent[idd]][:in_sent_idd[idd]]+[item]]\n",
    "            WindowSent=[j for i in WindowSent for j in i]\n",
    "            wrd_enc.append(tokenizer.encode(' '.join(WindowSent), add_special_tokens = True,\n",
    "                                             truncation =True,\n",
    "                                             add_prefix_space=True, return_tensors = \"pt\"))\n"
   ]
  },
  {
   "cell_type": "code",
   "execution_count": 21,
   "id": "strange-journal",
   "metadata": {},
   "outputs": [
    {
     "name": "stdout",
     "output_type": "stream",
     "text": [
      "hi\n",
      "bye\n",
      "hi\n",
      "bye\n",
      "hi\n",
      "bye\n"
     ]
    },
    {
     "data": {
      "text/plain": [
       "'text=\\'hello.\\n\\'\\ninput = tokenizer.encode(text, add_special_tokens = True,\\n                                 truncation =True,\\n                     add_prefix_space=True,\\n                               return_tensors = \"pt\")\\nwith torch.no_grad():\\n    output = model(input)\\n#a=tokenizer.decode(input[0]).split(\\' \\')\\n#new_words=[idd[2][1:-1].lower() for idd in datadict[\\'words\\'][i] if idd[2][1:-1]!=\\'sp\\']\\n#a=[ \\'\\'.join(c for c in idd if c.isalpha()) for idd in a]\\na=input[0].cpu().detach().numpy()\\nprint(input, a)'"
      ]
     },
     "execution_count": 21,
     "metadata": {},
     "output_type": "execute_result"
    }
   ],
   "source": [
    "# get the activation too all these words:\n",
    "\n",
    "\n",
    "'''wrd_enc=[tokenizer.encode(' '.join(str_wrds[max(idd-nw,0):idd]+[item]), add_special_tokens = True,\n",
    "                                         truncation =True,\n",
    "                                         add_prefix_space=True, return_tensors = \"pt\") for idd, item in enumerate(str_wrds2)]\n",
    "'''\n",
    "output=[]\n",
    "if sent_Window==1:\n",
    "    TKN=[]\n",
    "    Window=[-1, 0, 10] # -1 means the words on their own.\n",
    "    #text2=[ ''.join(c for c in idd if c.isalpha()) for idd in text]\n",
    "    for nw in Window:\n",
    "        print('hi')\n",
    "        if nw>=0:\n",
    "            wrd_enc=[]\n",
    "            for idd, item in enumerate(str_wrds2):\n",
    "                WindowSent=sentences[max(wrd_in_sent[idd]-nw,0):wrd_in_sent[idd]]+[sentences[wrd_in_sent[idd]][:in_sent_idd[idd]]+[item]]\n",
    "                WindowSent=[j for i in WindowSent for j in i]\n",
    "                if len(WindowSent)>900:\n",
    "                    print('for window:',nw,' length is ', len(WindowSent) )\n",
    "                    WindowSent=WindowSent[-900:]\n",
    "                text_inp=tokenizer.encode(' '.join(WindowSent), add_special_tokens = True,\n",
    "                                                 truncation =True,\n",
    "                                                 add_prefix_space=True, return_tensors = \"pt\")\n",
    "                if len(text_inp[0])>=1024:\n",
    "                    print(\" maximum input length violated\")\n",
    "\n",
    "                wrd_enc.append(text_inp)\n",
    "        else:\n",
    "            wrd_enc=[tokenizer.encode(' '.join([item]), add_special_tokens = True,\n",
    "                                             truncation =True,\n",
    "                                             add_prefix_space=True, return_tensors = \"pt\") for idd, item in enumerate(str_wrds2)]\n",
    "\n",
    "        outputs=[]\n",
    "        with torch.no_grad():\n",
    "            for idd,item in enumerate(wrd_enc):\n",
    "                if Twolayer==1:\n",
    "                    outputs.append( [model(item)[2][0][:,-1,:].cpu().detach().numpy(),model(item)[2][-1][:,-1,:].cpu().detach().numpy() ])\n",
    "                else:\n",
    "                    outputs.append( [igg[:,-1,:].cpu().detach().numpy() for igg in model(item)[2]])\n",
    "            #model(item)[2][0][:,-1,:],model(item)[2][12][:,-1,:]\n",
    "        output.append(outputs)\n",
    "        TKN.append(wrd_enc)\n",
    "        print('bye')\n",
    "elif sent_Window==0:\n",
    "    TKN=[]\n",
    "    Window=[0, 2, 5,10,20, 50,100,200, 500,900] # -1 means the words on their own.\n",
    "    #text2=[ ''.join(c for c in idd if c.isalpha()) for idd in text]\n",
    "    for nw in Window:\n",
    "        print('hi')\n",
    "        if nw>=0:\n",
    "            wrd_enc=[]\n",
    "            for idd, item in enumerate(str_wrds2):\n",
    "                text_inp=tokenizer.encode(' '.join(str_wrds[max(idd-nw,0):idd]+[item]), add_special_tokens = True,\n",
    "                                         truncation =True,\n",
    "                                         add_prefix_space=True, return_tensors = \"pt\")\n",
    "                if len(text_inp[0])>=1024:\n",
    "                    print(\" maximum input length violated\")\n",
    "\n",
    "                wrd_enc.append(text_inp)\n",
    "        outputs=[]\n",
    "        with torch.no_grad():\n",
    "            for idd,item in enumerate(wrd_enc):\n",
    "                outputs.append( [igg[:,-1,:].cpu().detach().numpy() for igg in model(item)[2]])\n",
    "            #model(item)[2][0][:,-1,:],model(item)[2][12][:,-1,:]\n",
    "        output.append(outputs)\n",
    "        TKN.append(wrd_enc)\n",
    "        print('bye')\n",
    "else:\n",
    "    Window=[]\n",
    "\n",
    "\n",
    "'''text='hello.\\n'\n",
    "input = tokenizer.encode(text, add_special_tokens = True,\n",
    "                                 truncation =True,\n",
    "                     add_prefix_space=True,\n",
    "                               return_tensors = \"pt\")\n",
    "with torch.no_grad():\n",
    "    output = model(input)\n",
    "#a=tokenizer.decode(input[0]).split(' ')\n",
    "#new_words=[idd[2][1:-1].lower() for idd in datadict['words'][i] if idd[2][1:-1]!='sp']\n",
    "#a=[ ''.join(c for c in idd if c.isalpha()) for idd in a]\n",
    "a=input[0].cpu().detach().numpy()\n",
    "print(input, a)'''"
   ]
  },
  {
   "cell_type": "code",
   "execution_count": 28,
   "id": "operational-department",
   "metadata": {},
   "outputs": [
    {
     "name": "stdout",
     "output_type": "stream",
     "text": [
      "WsentL_2LYR\n",
      "[-1, 0, 10, -2]\n"
     ]
    }
   ],
   "source": [
    "print(sent_Window_N)\n",
    "print(Window)"
   ]
  },
  {
   "cell_type": "code",
   "execution_count": 23,
   "id": "headed-render",
   "metadata": {},
   "outputs": [
    {
     "name": "stdout",
     "output_type": "stream",
     "text": [
      "839\n",
      "838\n",
      "827\n",
      "296\n"
     ]
    }
   ],
   "source": [
    "#print(len(output[0])) # [output]= nWindows*nWrds*2(0+last)*1*nNeurons\n",
    "# adding the whole story representationto output\n",
    "#\n",
    "output_all2_start=0\n",
    "for portion in range(0,len(str_wrds2),800):\n",
    "    text=' '.join(str_wrds2[portion:portion+800])\n",
    "    input = tokenizer.encode(text, add_special_tokens = True,\n",
    "                                         truncation =True,\n",
    "                             add_prefix_space=True,\n",
    "                                       return_tensors = \"pt\")\n",
    "    print(len(input[0]))\n",
    "    with torch.no_grad():\n",
    "\n",
    "        output_all = model(input)\n",
    "        if output_all2_start==0:\n",
    "            LAyers=[0, -1]#range(len(output_all[2]))\n",
    "            output_all2=[output_all[2][idd].cpu().detach().numpy() for idd in LAyers ] #layer, batch, nToken, neuron\n",
    "            a=input[0].cpu().detach().numpy()\n",
    "            output_all2_start=output_all2_start+1\n",
    "        else:\n",
    "            output_all2=[np.concatenate( ( output_all2[idd],output_all[2][idd].cpu().detach().numpy()), axis=1) for idd in LAyers ]\n",
    "            a=np.concatenate( (a,input[0].cpu().detach().numpy()), axis=0)\n",
    "        ##a=tokenizer.decode(input[0]).split(' ')\n",
    "        #new_words=[idd[2][1:-1].lower() for idd in datadict['words'][i] if idd[2][1:-1]!='sp']\n",
    "        ##a=[ ''.join(c for c in idd if c.isalpha()) for idd in a]\n",
    "\n",
    "wrd_enc=[tokenizer.encode(item, add_special_tokens = True,\n",
    "                                 truncation =True,add_prefix_space=True,\n",
    "                               return_tensors = \"pt\")[0].cpu().detach().numpy() for item in str_wrds2]\n",
    "wrd_enc=[ item[-1] for item in wrd_enc ]\n",
    "counter=0\n",
    "tknIdx=[]\n",
    "a=[j for j in a]\n",
    "counter=0\n",
    "tknIdx=[]\n",
    "act_all=[]\n",
    "for wrd in wrd_enc:\n",
    "    if wrd in a[counter:]:\n",
    "        idd=a[counter:].index(wrd)\n",
    "        tknIdx.append(idd+counter)\n",
    "        act_all.append([item_layer[:,idd+counter,:] for item_layer in output_all2])\n",
    "        counter=counter+idd+1\n",
    "    else:\n",
    "        print('wrd not in tokenizer output')\n",
    "output.append(act_all)\n",
    "Window.append(-2)\n"
   ]
  },
  {
   "cell_type": "code",
   "execution_count": 29,
   "id": "surface-communication",
   "metadata": {},
   "outputs": [
    {
     "name": "stdout",
     "output_type": "stream",
     "text": [
      "25\n"
     ]
    }
   ],
   "source": [
    "print(len(output_all[2]))"
   ]
  },
  {
   "cell_type": "code",
   "execution_count": 30,
   "id": "expected-assurance",
   "metadata": {},
   "outputs": [
    {
     "name": "stdout",
     "output_type": "stream",
     "text": [
      " number of neurons: 1024\n",
      " number of layers: 2\n"
     ]
    }
   ],
   "source": [
    "# [output]= nWindows*nWrds*2(layer 0 and last)*1*nNeurons\n",
    "# making output numpy\n",
    "nNeurons=(output[0][0][0]).shape[1]\n",
    "print(' number of neurons:',nNeurons )\n",
    "nLYR=len(output[0][0])\n",
    "print(' number of layers:',nLYR )\n",
    "activation=np.zeros((len(Window),len(str_wrds2), nLYR, nNeurons ))\n",
    "for wndID,wnd in enumerate(Window):\n",
    "    for wrdID in range(len(str_wrds2)):\n",
    "        for layer in range(nLYR):\n",
    "            activation[wndID,wrdID,layer, :] =output[wndID][wrdID][layer]#.cpu().detach().numpy()"
   ]
  },
  {
   "cell_type": "code",
   "execution_count": 31,
   "id": "declared-fighter",
   "metadata": {},
   "outputs": [
    {
     "name": "stdout",
     "output_type": "stream",
     "text": [
      "(4, 2682, 2, 1024)\n"
     ]
    }
   ],
   "source": [
    "print(activation.shape)\n",
    "#print(len(sentences),name)\n",
    "#\n",
    "from scipy.io import savemat\n",
    "all_wrds_dict={'actv':[]}\n",
    "all_wrds_dict['actv']=activation\n",
    "all_wrds_dict['nonStopWrds']=np.asarray([1 if idd not in stopwords.words('english') else 0 for idd in str_wrds2])\n",
    "all_wrds_dict['all_wrds']=str_wrds2\n",
    "all_wrds_dict['window']=Window\n",
    "all_wrds_dict['sents']=sentences\n",
    "Savename='../Data/after_aligner/hankGPT2'+modelplus+'FN'+sent_Window_N+'_allWords_beforeDR'+'.mat'\n",
    "# save the files to .mat \n",
    "#print(all_wrds_dict)\n",
    "savemat(Savename, all_wrds_dict)"
   ]
  },
  {
   "cell_type": "code",
   "execution_count": null,
   "id": "numerical-chapter",
   "metadata": {},
   "outputs": [],
   "source": []
  },
  {
   "cell_type": "code",
   "execution_count": 32,
   "id": "assured-disposal",
   "metadata": {},
   "outputs": [
    {
     "data": {
      "text/plain": [
       "'wnd=0\\nfrom sklearn.manifold import TSNE\\nimport pandas as pd\\nfrom colour import Color\\nimport matplotlib as mpl\\nfrom mpl_toolkits.mplot3d import Axes3D\\n\\nred = Color(\"red\")\\ncolors = list(red.range_to(Color(\"green\"),len(sentences)))\\n%matplotlib notebook\\nfig = plt.figure(figsize=(5,5))\\n\\n    \\nfor layr in range(activation.shape[2]):\\n    X = np.squeeze(activation[:,:,layr,:])\\n    tsne=TSNE(n_components=3)\\n    Xn = tsne.fit_transform(X)\\n    #axs[SNR, layr].axes(projection=\\'3d\\')\\n    ax = fig.add_subplot(5,3 , layr+1, projection=\\'3d\\')\\n    ax.plot3D(Red_act_ref[:,0], Red_act_ref[:,1], Red_act_ref[:,2], \\'gray\\')\\n    ax.text(Red_act_ref[-1,0], Red_act_ref[-1,1], Red_act_ref[-1,2], \"end_ref\", color=\\'red\\')\\n    ax.plot3D(Red_act_test[:,0], Red_act_test[:,1], Red_act_test[:,2], \\'gray\\')\\n    ax.text(Red_act_test[-1,0], Red_act_test[-1,1], Red_act_test[-1,2], \"end_test\", color=\\'red\\')\\n    \\n    \\nlayr=12\\nX = np.squeeze(activation[:,:,layr,:])\\ntsne=TSNE(n_components=3)\\nXn = tsne.fit_transform(X)\\nax = fig.add_subplot(5,3 , layr+1)\\nax = Axes3D(fig)\\n#ax.scatter(Xn[:,0].T, Xn[:,1].T,marker=\\'o\\')\\ndf = pd.DataFrame(dict(x=Xn[:,0].T, y=Xn[:,1].T, z=Xn[:,2].T, label=wrd_in_sent))\\n\\ngroups = df.groupby(\\'label\\')\\nax.margins(0.05) # Optional, just adds 5% padding to the autoscaling\\nfor name, group in groups:\\n    #print(name)\\n    ax.scatter(group.x, group.y,group.z,s=3)\\nfor wrdID,wrd in enumerate(str_wrds):\\n    ax.text(Xn[wrdID,0],Xn[wrdID,1],Xn[wrdID,2],  \\'%s\\' % (wrd), size=3, zorder=1, color=\\'k\\')\\n'"
      ]
     },
     "execution_count": 32,
     "metadata": {},
     "output_type": "execute_result"
    }
   ],
   "source": [
    "# looking at the representations of sentences and words throughout the network:\n",
    "# firs we look at the tsnes through the layers:\n",
    "'''wnd=0\n",
    "from sklearn.manifold import TSNE\n",
    "import pandas as pd\n",
    "from colour import Color\n",
    "import matplotlib as mpl\n",
    "from mpl_toolkits.mplot3d import Axes3D\n",
    "\n",
    "red = Color(\"red\")\n",
    "colors = list(red.range_to(Color(\"green\"),len(sentences)))\n",
    "%matplotlib notebook\n",
    "fig = plt.figure(figsize=(5,5))\n",
    "\n",
    "    \n",
    "for layr in range(activation.shape[2]):\n",
    "    X = np.squeeze(activation[:,:,layr,:])\n",
    "    tsne=TSNE(n_components=3)\n",
    "    Xn = tsne.fit_transform(X)\n",
    "    #axs[SNR, layr].axes(projection='3d')\n",
    "    ax = fig.add_subplot(5,3 , layr+1, projection='3d')\n",
    "    ax.plot3D(Red_act_ref[:,0], Red_act_ref[:,1], Red_act_ref[:,2], 'gray')\n",
    "    ax.text(Red_act_ref[-1,0], Red_act_ref[-1,1], Red_act_ref[-1,2], \"end_ref\", color='red')\n",
    "    ax.plot3D(Red_act_test[:,0], Red_act_test[:,1], Red_act_test[:,2], 'gray')\n",
    "    ax.text(Red_act_test[-1,0], Red_act_test[-1,1], Red_act_test[-1,2], \"end_test\", color='red')\n",
    "    \n",
    "    \n",
    "layr=12\n",
    "X = np.squeeze(activation[:,:,layr,:])\n",
    "tsne=TSNE(n_components=3)\n",
    "Xn = tsne.fit_transform(X)\n",
    "ax = fig.add_subplot(5,3 , layr+1)\n",
    "ax = Axes3D(fig)\n",
    "#ax.scatter(Xn[:,0].T, Xn[:,1].T,marker='o')\n",
    "df = pd.DataFrame(dict(x=Xn[:,0].T, y=Xn[:,1].T, z=Xn[:,2].T, label=wrd_in_sent))\n",
    "\n",
    "groups = df.groupby('label')\n",
    "ax.margins(0.05) # Optional, just adds 5% padding to the autoscaling\n",
    "for name, group in groups:\n",
    "    #print(name)\n",
    "    ax.scatter(group.x, group.y,group.z,s=3)\n",
    "for wrdID,wrd in enumerate(str_wrds):\n",
    "    ax.text(Xn[wrdID,0],Xn[wrdID,1],Xn[wrdID,2],  '%s' % (wrd), size=3, zorder=1, color='k')\n",
    "'''\n",
    "        "
   ]
  },
  {
   "cell_type": "code",
   "execution_count": 33,
   "id": "portable-applicant",
   "metadata": {},
   "outputs": [],
   "source": [
    "## dimention reduction methods:\n",
    "DimRs=['PCA_mr','PCA_n', 'PCA','MDS', 'LLE', 'PPA+PCA' ]\n",
    "# these methods are gonna be added on the Window dimension since we are using only one window dim. \n"
   ]
  },
  {
   "cell_type": "code",
   "execution_count": 35,
   "id": "revised-birmingham",
   "metadata": {},
   "outputs": [
    {
     "name": "stdout",
     "output_type": "stream",
     "text": [
      "(4, 2682, 2, 1024)\n",
      "(10728, 2, 1024)\n",
      "(1, 2, 1024)\n",
      "[[1. 1. 1. ... 1. 1. 1.]\n",
      " [1. 1. 1. ... 1. 1. 1.]]\n",
      "(4, 2682, 2, 1024)\n",
      "activation_mr (4, 2682, 2, 1024)\n"
     ]
    }
   ],
   "source": [
    "print((activation.shape)) # wind, words, layer, neurons. \n",
    "#take the PCA\n",
    "# first we concatinate all the words and windows for the two layers:\n",
    "Act=activation.reshape((-1,nLYR,nNeurons))\n",
    "print(Act.shape)\n",
    "\n",
    "# find the norms of eacl neauron at each layer:\n",
    "Norm_act=np.linalg.norm(Act,axis=0)\n",
    "print(Norm_act[None,:,:].shape)\n",
    "# normalize Act and activation:\n",
    "Act_n=Act/Norm_act[None,:,:]\n",
    "activation_n=activation/Norm_act[None,None,:,:]\n",
    "tmp=activation_n.reshape((-1,nLYR,nNeurons))\n",
    "print(np.linalg.norm(tmp,axis=0))\n",
    "\n",
    "\n",
    "\n",
    "## z-score activation:\n",
    "Act_m=np.mean(Act,axis=0)\n",
    "Act_std=np.std(Act,axis=0)\n",
    "\n",
    "activation_zs=(activation-Act_m[None,None,:,:])/Act_std[None,None,:,:]\n",
    "#activation_zs=sp.stats.zscore(activation,axis=1) # WARNING: it is assumed that the first dimmension is 1\n",
    "print((activation_zs.shape))\n",
    "\n",
    "\n",
    "## mean removed:\n",
    "activation_mr=activation-Act_m[None,None,:,:] # WARNING: it is assumed that the first dimmension is 1\n",
    "print('activation_mr',activation_mr.shape)\n"
   ]
  },
  {
   "cell_type": "code",
   "execution_count": 30,
   "id": "processed-latino",
   "metadata": {},
   "outputs": [
    {
     "name": "stdout",
     "output_type": "stream",
     "text": [
      "Window length must be 1. it is: 1\n"
     ]
    }
   ],
   "source": [
    "\n",
    "activation_mr=activation_mr[-1,:,:,:]\n",
    "activation_mr=activation_mr[-1,:,:,:]\n",
    "\n",
    "print('Window length must be 1. it is:', len(Window))"
   ]
  },
  {
   "cell_type": "code",
   "execution_count": 43,
   "id": "premium-auction",
   "metadata": {},
   "outputs": [
    {
     "name": "stdout",
     "output_type": "stream",
     "text": [
      " initial ncmp for PPA is:  1024\n",
      "[312, 1]\n",
      "activation_PPA shape is  (4, 2682, 2, 1024)\n",
      "(4, 2682, 2, 1024)\n"
     ]
    },
    {
     "data": {
      "image/png": "[encoded data removed]",
      "text/plain": [
       "<Figure size 432x288 with 2 Axes>"
      ]
     },
     "metadata": {
      "needs_background": "light"
     },
     "output_type": "display_data"
    },
    {
     "data": {
      "image/png": "[encoded data removed]",
      "text/plain": [
       "<Figure size 432x288 with 2 Axes>"
      ]
     },
     "metadata": {
      "needs_background": "light"
     },
     "output_type": "display_data"
    }
   ],
   "source": [
    "# we first check how much of the zscored data's variance is explaind by each PC:\n",
    "# then apply PPA and zscore\n",
    "ncmp=nNeurons\n",
    "print(' initial ncmp for PPA is: ', ncmp)\n",
    "from sklearn.decomposition import PCA\n",
    "PCAs=[]\n",
    "fig, axs = plt.subplots(2, 1)\n",
    "Threshold=0.95\n",
    "D=[]\n",
    "\n",
    "for layer in range(nLYR):\n",
    "    pca=PCA(n_components=ncmp)\n",
    "    pca.fit(np.squeeze(activation_mr.reshape((-1,nLYR,nNeurons))[:,layer, :]))\n",
    "    PCAs.append(pca)\n",
    "    cumSumVar=pca.explained_variance_ratio_.cumsum()\n",
    "    thresholed=[idd for idd,item in enumerate(cumSumVar) if item>Threshold]\n",
    "    D.append(thresholed[0])\n",
    "    axs[layer].plot(pca.explained_variance_ratio_)\n",
    "    axs[layer].set_title('explained var for layer:'+str(layer))\n",
    "print(D)    \n",
    "    \n",
    "# apply PPA:\n",
    "activation_PPA=np.zeros((len(Window),len(str_wrds2), nLYR, ncmp ))\n",
    "#[PCAs[0].components_]= ncmp*ndim(original)\n",
    "for wnd in range(len(Window)):\n",
    "    for layer in range(nLYR):\n",
    "        activation_PPA[wnd,:,layer, :]=np.squeeze(activation_mr[wnd,:,layer, :])-PCAs[layer].transform(np.squeeze(activation_mr[wnd,:,layer, :]))[:,:D[layer]+1]@ PCAs[layer].components_[:D[layer]+1,:]\n",
    "\n",
    "print('activation_PPA shape is ', activation_PPA.shape)\n",
    "\n",
    "# do the PCA to see how the variance compares:\n",
    "PCAsofPPA=[]\n",
    "fig, axs = plt.subplots(2, 1)\n",
    "ncmp=60\n",
    "for layer in range(nLYR):\n",
    "    pca=PCA(n_components=ncmp)\n",
    "    pca.fit(np.squeeze(activation_PPA.reshape((-1,nLYR,nNeurons))[:,layer, :]))\n",
    "    PCAsofPPA.append(pca)\n",
    "    axs[layer].plot(PCAs[layer].explained_variance_ratio_[:ncmp])\n",
    "    axs[layer].plot(pca.explained_variance_ratio_)\n",
    "    axs[layer].set_title('explained var for layer:'+str(layer))\n",
    "    axs[layer].legend(['original', 'after PPA'])\n",
    "    \n",
    "# zscore PPA:\n",
    "Act_PPA=activation_PPA.reshape((-1,nLYR,nNeurons))\n",
    "Act_PPA_m=np.mean(Act,axis=0)\n",
    "Act_PPA_std=np.std(Act,axis=0)\n",
    "activation_PPA_zs=(activation_PPA-Act_PPA_m[None,None,:,:])/Act_PPA_std[None,None,:,:]\n",
    "print((activation_PPA_zs.shape))"
   ]
  },
  {
   "cell_type": "code",
   "execution_count": 45,
   "id": "useful-victim",
   "metadata": {},
   "outputs": [
    {
     "name": "stdout",
     "output_type": "stream",
     "text": [
      "applying PCA_mr:\n",
      "applying PCA_n:\n",
      "applying PCA:\n",
      "applying MDS:\n",
      "applying LLE:\n",
      "applying PPA+PCA:\n"
     ]
    }
   ],
   "source": [
    "## apply the dimension reductions:\n",
    "ncmp=60\n",
    "pcaName='DRs'\n",
    "#DimRs=['PCA_mr','PCA_n', 'PCA','MDS', 'LLE', 'PPA+PCA' ]\n",
    "activation_r=np.zeros((len(DimRs),len(Window),len(str_wrds2), nLYR, ncmp ))\n",
    "for idDR, DR_name in enumerate(DimRs):\n",
    "    if DR_name=='PCA_mr':\n",
    "        from sklearn.decomposition import PCA\n",
    "        PCAs=[]\n",
    "        for layer in range(nLYR):\n",
    "            pca=PCA(n_components=ncmp)\n",
    "            pca.fit(np.squeeze(activation_mr.reshape((-1,nLYR,nNeurons))[:,layer, :]))\n",
    "            PCAs.append(pca)\n",
    "        \n",
    "        print('applying PCA_mr:')\n",
    "        for wnd in range(len(Window)):\n",
    "            for layer in range(nLYR):\n",
    "                    activation_r[idDR,wnd,:,layer, :]=PCAs[layer].transform(np.squeeze(activation_mr[wnd,:,layer, :]))    \n",
    "    if DR_name=='PCA_n':\n",
    "        from sklearn.decomposition import PCA\n",
    "        # now we transform the activation matrix:\n",
    "        print('applying PCA_n:')\n",
    "        PCAs=[]\n",
    "        for layer in range(nLYR):\n",
    "            pca=PCA(n_components=ncmp)\n",
    "            pca.fit(np.squeeze(activation_n.reshape((-1,nLYR,nNeurons))[:,layer, :]))\n",
    "            PCAs.append(pca)\n",
    "\n",
    "        for wnd in range(len(Window)):\n",
    "            for layer in range(nLYR):\n",
    "                    activation_r[idDR,wnd,:,layer, :]=PCAs[layer].transform(np.squeeze(activation_n[wnd,:,layer, :]))\n",
    "    if DR_name=='PCA':\n",
    "        from sklearn.decomposition import PCA\n",
    "    \n",
    "        print('applying PCA:')\n",
    "        PCAs=[]\n",
    "        for layer in range(nLYR):\n",
    "            pca=PCA(n_components=ncmp)\n",
    "            pca.fit(np.squeeze(activation_zs.reshape((-1,nLYR,nNeurons))[:,layer, :]))\n",
    "            PCAs.append(pca)\n",
    "\n",
    "        for wnd in range(len(Window)):\n",
    "            for layer in range(nLYR):\n",
    "                    activation_r[idDR,wnd,:,layer, :]=PCAs[layer].transform(np.squeeze(activation_zs[wnd,:,layer, :]))\n",
    "    if DR_name=='MDS':\n",
    "        from sklearn.metrics.pairwise import cosine_distances\n",
    "        from sklearn.manifold import MDS\n",
    "        # now we transform the activation matrix:\n",
    "        print('applying MDS:')\n",
    "        for wnd in range(len(Window)):\n",
    "            for layer in range(nLYR):\n",
    "                pca=MDS(n_components=ncmp,dissimilarity='precomputed')\n",
    "                activation_r[idDR,wnd,:,layer, :]=pca.fit_transform(cosine_distances(np.squeeze(activation[wnd,:,layer, :])))\n",
    "    if DR_name=='LLE':\n",
    "        from sklearn.manifold import LocallyLinearEmbedding\n",
    "        # now we transform the activation matrix:\n",
    "        print('applying LLE:')\n",
    "        PCAs=[]\n",
    "        for layer in range(nLYR):\n",
    "            pca=LocallyLinearEmbedding(n_components=ncmp)\n",
    "            pca.fit(np.squeeze(activation.reshape((-1,nLYR,nNeurons))[:,layer, :]))\n",
    "            PCAs.append(pca)\n",
    "\n",
    "        for wnd in range(len(Window)):\n",
    "            for layer in range(nLYR):\n",
    "                    activation_r[idDR,wnd,:,layer, :]=PCAs[layer].transform(np.squeeze(activation[wnd,:,layer, :]))\n",
    "    if DR_name=='PPA+PCA':\n",
    "        \n",
    "        from sklearn.decomposition import PCA\n",
    "        # now we transform the activation matrix:\n",
    "        print('applying PPA+PCA:')\n",
    "        PCAs=[]\n",
    "        for layer in range(nLYR):\n",
    "            pca=PCA(n_components=ncmp)\n",
    "            pca.fit(np.squeeze(activation_PPA.reshape((-1,nLYR,nNeurons))[:,layer, :]))\n",
    "            PCAs.append(pca)\n",
    "\n",
    "        for wnd in range(len(Window)):\n",
    "            for layer in range(nLYR):\n",
    "                    activation_r[idDR,wnd,:,layer, :]=PCAs[layer].transform(np.squeeze(activation_PPA[wnd,:,layer, :]))\n",
    "\n",
    "\n",
    "        \n",
    "    "
   ]
  },
  {
   "cell_type": "code",
   "execution_count": 46,
   "id": "consecutive-serial",
   "metadata": {},
   "outputs": [
    {
     "data": {
      "text/plain": [
       "\"# Applying PCA on each layer and keeping 60 PCs:\\nif PCAV==1:\\n    ncmp=60\\n    pcaName='Norm_pca'\\n    import numpy as np\\n    from sklearn.decomposition import PCA\\n    PCAs=[]\\n    activation_r=np.zeros((len(Window),len(str_wrds2), nLYR, ncmp ))\\n    for layer in range(nLYR):\\n        pca=PCA(n_components=ncmp)\\n        pca.fit(np.squeeze(Act_n[:,layer, :]))\\n        PCAs.append(pca)\\n    # now we transform the activation matrix:\\n    print('applying PCA:')\\n    for wndID,wnd in enumerate(Window):\\n        for wrdID in range(len(str_wrds2)):\\n            for layer in range(nLYR):\\n                activation_r[wndID,wrdID,layer, :]=PCAs[layer].transform(np.squeeze(activation_n[wndID,wrdID,layer, :])[np.newaxis,:])\\nelse:\\n    pcaName=''\\n    activation_r=np.zeros((len(Window),len(str_wrds2), nLYR, ncmp ))\\n    \\n    # now we transform the activation matrix:\\n    print('not applying PCA:')\\n    for wndID,wnd in enumerate(Window):\\n        for wrdID in range(len(str_wrds2)):\\n            for layer in range(nLYR):\\n                activation_r[wndID,wrdID,layer, :]=np.squeeze(activation[wndID,wrdID,layer, :])[np.newaxis,:]\\n\""
      ]
     },
     "execution_count": 46,
     "metadata": {},
     "output_type": "execute_result"
    }
   ],
   "source": [
    "'''# Applying PCA on each layer and keeping 60 PCs:\n",
    "if PCAV==1:\n",
    "    ncmp=60\n",
    "    pcaName='Norm_pca'\n",
    "    import numpy as np\n",
    "    from sklearn.decomposition import PCA\n",
    "    PCAs=[]\n",
    "    activation_r=np.zeros((len(Window),len(str_wrds2), nLYR, ncmp ))\n",
    "    for layer in range(nLYR):\n",
    "        pca=PCA(n_components=ncmp)\n",
    "        pca.fit(np.squeeze(Act_n[:,layer, :]))\n",
    "        PCAs.append(pca)\n",
    "    # now we transform the activation matrix:\n",
    "    print('applying PCA:')\n",
    "    for wndID,wnd in enumerate(Window):\n",
    "        for wrdID in range(len(str_wrds2)):\n",
    "            for layer in range(nLYR):\n",
    "                activation_r[wndID,wrdID,layer, :]=PCAs[layer].transform(np.squeeze(activation_n[wndID,wrdID,layer, :])[np.newaxis,:])\n",
    "else:\n",
    "    pcaName=''\n",
    "    activation_r=np.zeros((len(Window),len(str_wrds2), nLYR, ncmp ))\n",
    "    \n",
    "    # now we transform the activation matrix:\n",
    "    print('not applying PCA:')\n",
    "    for wndID,wnd in enumerate(Window):\n",
    "        for wrdID in range(len(str_wrds2)):\n",
    "            for layer in range(nLYR):\n",
    "                activation_r[wndID,wrdID,layer, :]=np.squeeze(activation[wndID,wrdID,layer, :])[np.newaxis,:]\n",
    "'''"
   ]
  },
  {
   "cell_type": "code",
   "execution_count": 47,
   "id": "single-tucson",
   "metadata": {},
   "outputs": [
    {
     "name": "stdout",
     "output_type": "stream",
     "text": [
      "(6, 4, 2682, 2, 60)\n",
      "[8, 5, 6, 11, 14, 17, 16, 0, 1, 12, 13, 18, 15, 10, 9, 4, 7, 3, 2]\n"
     ]
    }
   ],
   "source": [
    "print(activation_r.shape)\n",
    "print(organized_order)"
   ]
  },
  {
   "cell_type": "code",
   "execution_count": 48,
   "id": "adolescent-orientation",
   "metadata": {},
   "outputs": [],
   "source": [
    "# expanding the word context gradually at the last layer:\n",
    "TKN=[]\n",
    "start_wrds=[]\n",
    "ACT=[]\n",
    "for i in range(len(stories)):\n",
    "    # find the start and end address in the concatinated story: str_wrds2\n",
    "    \n",
    "    new_words=[idd[2][1:-1].lower() for idd in datadict['words'][i] if idd[2][1:-1]!='sp']\n",
    "    # what story does it correspond to?\n",
    "    idx=organized_order.index(i)\n",
    "    idx_start=sum(org_str_len[:idx])\n",
    "    idx_end=sum(org_str_len[:idx+1])\n",
    "    tknIdx=[]\n",
    "    counter=0\n",
    "    non_stopwrds=[1 if idd not in stopwords.words('english') else 0 for idd in new_words]\n",
    "    for wrd in new_words:\n",
    "        if wrd in str_wrds2[idx_start+counter:idx_end]:\n",
    "            idd=str_wrds2[idx_start+counter:idx_end].index(wrd)\n",
    "            tknIdx.append(idx_start+idd+counter)\n",
    "            counter=counter+idd+1\n",
    "        else:\n",
    "            print('wrd not in tokenizer output', wrd)\n",
    "    TKN.append(tknIdx)\n",
    "    \n",
    "    \n",
    "    new_phonemes=[idd for idd in datadict['phonemes'][i] if idd[2]!='sp']\n",
    "    new_words=[idd for idd in datadict['words'][i] if idd[2][1:-1]!='sp']\n",
    "    datadict['phonemes'][i]=new_phonemes\n",
    "    datadict['words'][i]=new_words\n",
    "    ACT.append(activation_r[:,:,tknIdx,:, :])\n",
    "    start_wrds.append(np.array(non_stopwrds)[np.newaxis,:])\n"
   ]
  },
  {
   "cell_type": "code",
   "execution_count": 49,
   "id": "fresh-favorite",
   "metadata": {},
   "outputs": [
    {
     "name": "stdout",
     "output_type": "stream",
     "text": [
      "(1, 191)\n"
     ]
    }
   ],
   "source": [
    "print(start_wrds[0].shape)"
   ]
  },
  {
   "cell_type": "code",
   "execution_count": 51,
   "id": "iraqi-groove",
   "metadata": {},
   "outputs": [
    {
     "name": "stdout",
     "output_type": "stream",
     "text": [
      "[191, 170, 2, 68, 94, 154, 192, 62, 167, 86, 88, 176, 139, 151, 198, 113, 226, 199, 190]\n",
      "226\n",
      "(6, 4, 226, 2, 60) (1, 226)\n"
     ]
    }
   ],
   "source": [
    "tokenL=[ idd.shape[2] for idd in ACT]\n",
    "maxL=max(tokenL)\n",
    "print(tokenL)\n",
    "print(maxL)\n",
    "## pad zeros\n",
    "ACT=[ np.concatenate( (idd, np.zeros((idd.shape[0],idd.shape[1] ,maxL- idd.shape[2], idd.shape[3], idd.shape[4]))),axis=2) for idd in ACT]\n",
    "start_wrds=[ np.concatenate( (idd, np.zeros((idd.shape[0],maxL- idd.shape[1]))),axis=1) for idd in start_wrds]\n",
    "\n",
    "print(ACT[0].shape,start_wrds[0].shape)"
   ]
  },
  {
   "cell_type": "code",
   "execution_count": 52,
   "id": "featured-dependence",
   "metadata": {},
   "outputs": [
    {
     "name": "stdout",
     "output_type": "stream",
     "text": [
      "(19, 6, 4, 226, 2, 60) (19, 1, 226)\n"
     ]
    }
   ],
   "source": [
    "activations=np.asarray(ACT)\n",
    "start_words=np.asarray(start_wrds)\n",
    "print(activations.shape,start_words.shape )"
   ]
  },
  {
   "cell_type": "code",
   "execution_count": 54,
   "id": "featured-litigation",
   "metadata": {},
   "outputs": [],
   "source": [
    "'''#print(stopwords.words('english'))\n",
    "i=5\n",
    "print(len(datadict['words'][i]), datadict['actv'][i].shape)\n",
    "new_words=[idd[2][1:-1].lower() for idd in datadict['words'][i] if idd[2][1:-1]!='sp']\n",
    "print(datadict['nonStopWrds'][i], len(datadict['nonStopWrds'][i]))\n",
    "\n",
    "wrdsStop=[item for idd,item in enumerate(new_words) if datadict['nonStopWrds'][i][idd]==1]\n",
    "print(wrdsStop)\n",
    "print(Window)'''\n",
    "\n",
    "from scipy.io import savemat\n",
    "datadict['actv']=activations\n",
    "datadict['nonStopWrds']=start_words\n",
    "datadict['window']=Window\n",
    "datadict['DRmethods']=DimRs\n",
    "Savename='../Data/after_aligner/hankGPT2'+modelplus+'FN'+sent_Window_N+'_'+pcaName+'.mat'\n",
    "# save the files to .mat \n",
    "\n",
    "savemat(Savename, datadict)"
   ]
  },
  {
   "cell_type": "code",
   "execution_count": 55,
   "id": "fitted-livestock",
   "metadata": {},
   "outputs": [
    {
     "name": "stdout",
     "output_type": "stream",
     "text": [
      "../Data/after_aligner/hankGPT2-mediumFNWsentL_2LYR_DRs.mat\n"
     ]
    }
   ],
   "source": [
    "#np.asarray(datadict['nonStopWrds'])\n",
    "\n",
    "print(Savename)"
   ]
  },
  {
   "cell_type": "code",
   "execution_count": 56,
   "id": "prompt-scott",
   "metadata": {},
   "outputs": [
    {
     "name": "stdout",
     "output_type": "stream",
     "text": [
      "(10728, 2, 1024)\n"
     ]
    }
   ],
   "source": [
    "print(Act.shape)"
   ]
  },
  {
   "cell_type": "code",
   "execution_count": 42,
   "id": "natural-sword",
   "metadata": {},
   "outputs": [
    {
     "name": "stdout",
     "output_type": "stream",
     "text": [
      "[[-0.00105901 -0.01824948 -0.00075396 ...  0.03721732  0.00622385\n",
      "  -0.11510081]\n",
      " [ 0.0023745  -0.01888404 -0.03326497 ... -0.00375302 -0.00503765\n",
      "  -0.00268101]\n",
      " [ 0.00026623 -0.01780795  0.00930467 ...  0.00940461 -0.00479928\n",
      "  -0.00301544]\n",
      " ...\n",
      " [ 0.          0.          0.         ...  0.          0.\n",
      "   0.        ]\n",
      " [ 0.          0.          0.         ...  0.          0.\n",
      "   0.        ]\n",
      " [ 0.          0.          0.         ...  0.          0.\n",
      "   0.        ]]\n",
      "[[0.         0.71377863 0.79773984 ... 0.90977645 0.97630911 0.94704813]\n",
      " [0.71377863 0.         0.55877124 ... 0.84535271 0.96201411 0.91030335]\n",
      " [0.79773984 0.55877124 0.         ... 0.88055337 0.99496197 0.98136305]\n",
      " ...\n",
      " [0.90977645 0.84535271 0.88055337 ... 0.         0.68462389 0.73704546]\n",
      " [0.97630911 0.96201411 0.99496197 ... 0.68462389 0.         0.72674615]\n",
      " [0.94704813 0.91030335 0.98136305 ... 0.73704546 0.72674615 0.        ]]\n"
     ]
    }
   ],
   "source": [
    "print(activations[0,4,:,1,:])\n",
    "print(cosine_distances(np.squeeze(activation_zs[:,:,layer, :])))"
   ]
  },
  {
   "cell_type": "code",
   "execution_count": 43,
   "id": "driven-yemen",
   "metadata": {},
   "outputs": [
    {
     "name": "stdout",
     "output_type": "stream",
     "text": [
      "applying MDS:\n",
      "[[ 0.0187579  -0.13765596 -0.12693204 ... -0.05117913 -0.01593317\n",
      "   0.04371622]\n",
      " [ 0.00755739  0.00952576 -0.06225134 ...  0.02430559 -0.05198937\n",
      "  -0.03936052]\n",
      " [ 0.04149736 -0.10022929 -0.11822294 ... -0.12396124  0.08878997\n",
      "  -0.08924105]\n",
      " ...\n",
      " [ 0.03942662 -0.16168656 -0.11476682 ... -0.04855714 -0.04542532\n",
      "  -0.07711456]\n",
      " [ 0.13070307 -0.04437114 -0.14151299 ...  0.00726114  0.03311524\n",
      "  -0.15823054]\n",
      " [ 0.12124917  0.06571801 -0.02855442 ...  0.01663156 -0.04400266\n",
      "  -0.0293802 ]]\n"
     ]
    }
   ],
   "source": [
    "a=cosine_distances(np.squeeze(activation_zs[:,:,layer, :]))\n",
    "from sklearn.manifold import MDS\n",
    "# now we transform the activation matrix:\n",
    "print('applying MDS:')\n",
    "layer=1\n",
    "pca=MDS(n_components=ncmp,dissimilarity='precomputed')\n",
    "b=pca.fit_transform(a)\n",
    "print(b)\n"
   ]
  },
  {
   "cell_type": "code",
   "execution_count": 83,
   "id": "everyday-canal",
   "metadata": {},
   "outputs": [
    {
     "name": "stdout",
     "output_type": "stream",
     "text": [
      "(2682, 60)\n"
     ]
    }
   ],
   "source": [
    "print(b.shape)"
   ]
  },
  {
   "cell_type": "code",
   "execution_count": null,
   "id": "sapphire-sound",
   "metadata": {},
   "outputs": [],
   "source": []
  }
 ],
 "metadata": {
  "kernelspec": {
   "display_name": "Python 3",
   "language": "python",
   "name": "python3"
  },
  "language_info": {
   "codemirror_mode": {
    "name": "ipython",
    "version": 3
   },
   "file_extension": ".py",
   "mimetype": "text/x-python",
   "name": "python",
   "nbconvert_exporter": "python",
   "pygments_lexer": "ipython3",
   "version": "3.7.5"
  }
 },
 "nbformat": 4,
 "nbformat_minor": 5
}
